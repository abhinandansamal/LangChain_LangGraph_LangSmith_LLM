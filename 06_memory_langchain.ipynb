{
 "cells": [
  {
   "cell_type": "code",
   "execution_count": 1,
   "id": "021e8943",
   "metadata": {},
   "outputs": [],
   "source": [
    "import os\n",
    "from dotenv import find_dotenv, load_dotenv\n",
    "_ = load_dotenv(find_dotenv())\n",
    "openai_api_key = os.environ[\"OPENAI_API_KEY\"]"
   ]
  },
  {
   "cell_type": "code",
   "execution_count": 2,
   "id": "5eb1b270",
   "metadata": {},
   "outputs": [],
   "source": [
    "from langchain_openai import ChatOpenAI\n",
    "\n",
    "llm = ChatOpenAI(model=\"gpt-3.5-turbo-0125\")"
   ]
  },
  {
   "cell_type": "markdown",
   "id": "8d90a9ef",
   "metadata": {},
   "source": [
    "## Buffer Memory\n",
    "\n",
    "* ConversationBufferMemory keeps a list of chat messages in a buffer and passes those into the prompt template."
   ]
  },
  {
   "cell_type": "code",
   "execution_count": 3,
   "id": "8f0e5234",
   "metadata": {},
   "outputs": [],
   "source": [
    "from langchain_core.prompts import (\n",
    "    ChatPromptTemplate,\n",
    "    MessagesPlaceholder,\n",
    "    SystemMessagePromptTemplate,\n",
    "    HumanMessagePromptTemplate\n",
    ")\n",
    "from langchain.chains import LLMChain\n",
    "from langchain.memory import ConversationBufferMemory"
   ]
  },
  {
   "cell_type": "code",
   "execution_count": 4,
   "id": "af9c67e2",
   "metadata": {},
   "outputs": [
    {
     "name": "stderr",
     "output_type": "stream",
     "text": [
      "<ipython-input-4-5c00a54f51a9>:14: LangChainDeprecationWarning: The class `LLMChain` was deprecated in LangChain 0.1.17 and will be removed in 1.0. Use RunnableSequence, e.g., `prompt | llm` instead.\n",
      "  conversation = LLMChain(\n"
     ]
    }
   ],
   "source": [
    "prompt = ChatPromptTemplate(\n",
    "    messages=[\n",
    "        SystemMessagePromptTemplate.from_template(\n",
    "            \"You are a nice chatbot having a conversation with a human.\"\n",
    "        ),\n",
    "        # The \"variable_name\" here is what must align with memory\n",
    "        MessagesPlaceholder(variable_name=\"chat_history\"),\n",
    "        HumanMessagePromptTemplate.from_template(\"{question}\")\n",
    "    ]\n",
    ")\n",
    "\n",
    "memory = ConversationBufferMemory(memory_key=\"chat_history\", return_messages=True)\n",
    "\n",
    "conversation = LLMChain(\n",
    "    llm=llm,\n",
    "    prompt=prompt,\n",
    "    verbose=True,\n",
    "    memory=memory\n",
    ")"
   ]
  },
  {
   "cell_type": "code",
   "execution_count": 5,
   "id": "9b7bbd86",
   "metadata": {},
   "outputs": [
    {
     "name": "stderr",
     "output_type": "stream",
     "text": [
      "<ipython-input-5-7c9a745f7b2d>:1: LangChainDeprecationWarning: The method `Chain.__call__` was deprecated in langchain 0.1.0 and will be removed in 0.3.0. Use invoke instead.\n",
      "  conversation({\"question\": \"hi\"})\n"
     ]
    },
    {
     "name": "stdout",
     "output_type": "stream",
     "text": [
      "\n",
      "\n",
      "\u001b[1m> Entering new LLMChain chain...\u001b[0m\n",
      "Prompt after formatting:\n",
      "\u001b[32;1m\u001b[1;3mSystem: You are a nice chatbot having a conversation with a human.\n",
      "Human: hi\u001b[0m\n",
      "\n",
      "\u001b[1m> Finished chain.\u001b[0m\n"
     ]
    },
    {
     "data": {
      "text/plain": [
       "{'question': 'hi',\n",
       " 'chat_history': [HumanMessage(content='hi'),\n",
       "  AIMessage(content='Hello! How are you today?')],\n",
       " 'text': 'Hello! How are you today?'}"
      ]
     },
     "execution_count": 5,
     "metadata": {},
     "output_type": "execute_result"
    }
   ],
   "source": [
    "conversation({\"question\": \"hi\"})"
   ]
  },
  {
   "cell_type": "code",
   "execution_count": 6,
   "id": "8a27a0be",
   "metadata": {},
   "outputs": [
    {
     "name": "stdout",
     "output_type": "stream",
     "text": [
      "\n",
      "\n",
      "\u001b[1m> Entering new LLMChain chain...\u001b[0m\n",
      "Prompt after formatting:\n",
      "\u001b[32;1m\u001b[1;3mSystem: You are a nice chatbot having a conversation with a human.\n",
      "Human: hi\n",
      "AI: Hello! How are you today?\n",
      "Human: My name is Abhi and I stay in Berlin.\u001b[0m\n",
      "\n",
      "\u001b[1m> Finished chain.\u001b[0m\n"
     ]
    },
    {
     "data": {
      "text/plain": [
       "{'question': 'My name is Abhi and I stay in Berlin.',\n",
       " 'chat_history': [HumanMessage(content='hi'),\n",
       "  AIMessage(content='Hello! How are you today?'),\n",
       "  HumanMessage(content='My name is Abhi and I stay in Berlin.'),\n",
       "  AIMessage(content='Nice to meet you, Abhi! Berlin is a wonderful city. What do you enjoy most about living there?')],\n",
       " 'text': 'Nice to meet you, Abhi! Berlin is a wonderful city. What do you enjoy most about living there?'}"
      ]
     },
     "execution_count": 6,
     "metadata": {},
     "output_type": "execute_result"
    }
   ],
   "source": [
    "conversation({\"question\": \"My name is Abhi and I stay in Berlin.\"})"
   ]
  },
  {
   "cell_type": "code",
   "execution_count": 7,
   "id": "71dbe1a4",
   "metadata": {},
   "outputs": [
    {
     "name": "stdout",
     "output_type": "stream",
     "text": [
      "\n",
      "\n",
      "\u001b[1m> Entering new LLMChain chain...\u001b[0m\n",
      "Prompt after formatting:\n",
      "\u001b[32;1m\u001b[1;3mSystem: You are a nice chatbot having a conversation with a human.\n",
      "Human: hi\n",
      "AI: Hello! How are you today?\n",
      "Human: My name is Abhi and I stay in Berlin.\n",
      "AI: Nice to meet you, Abhi! Berlin is a wonderful city. What do you enjoy most about living there?\n",
      "Human: I have moved 33 times. If my average moving distance was 100 miles, how many miles took all my moves?\u001b[0m\n",
      "\n",
      "\u001b[1m> Finished chain.\u001b[0m\n"
     ]
    },
    {
     "data": {
      "text/plain": [
       "{'question': 'I have moved 33 times. If my average moving distance was 100 miles, how many miles took all my moves?',\n",
       " 'chat_history': [HumanMessage(content='hi'),\n",
       "  AIMessage(content='Hello! How are you today?'),\n",
       "  HumanMessage(content='My name is Abhi and I stay in Berlin.'),\n",
       "  AIMessage(content='Nice to meet you, Abhi! Berlin is a wonderful city. What do you enjoy most about living there?'),\n",
       "  HumanMessage(content='I have moved 33 times. If my average moving distance was 100 miles, how many miles took all my moves?'),\n",
       "  AIMessage(content=\"To calculate the total distance you have moved, you can multiply the number of moves by the average moving distance. \\n\\n33 moves x 100 miles = 3300 miles\\n\\nSo, all your moves combined took you 3300 miles. That's quite a journey!\")],\n",
       " 'text': \"To calculate the total distance you have moved, you can multiply the number of moves by the average moving distance. \\n\\n33 moves x 100 miles = 3300 miles\\n\\nSo, all your moves combined took you 3300 miles. That's quite a journey!\"}"
      ]
     },
     "execution_count": 7,
     "metadata": {},
     "output_type": "execute_result"
    }
   ],
   "source": [
    "conversation({\"question\": \"I have moved 33 times. If my average moving distance was 100 miles, how many miles took all my moves?\"})"
   ]
  },
  {
   "cell_type": "code",
   "execution_count": 8,
   "id": "df1ad5d0",
   "metadata": {},
   "outputs": [
    {
     "name": "stdout",
     "output_type": "stream",
     "text": [
      "\n",
      "\n",
      "\u001b[1m> Entering new LLMChain chain...\u001b[0m\n",
      "Prompt after formatting:\n",
      "\u001b[32;1m\u001b[1;3mSystem: You are a nice chatbot having a conversation with a human.\n",
      "Human: hi\n",
      "AI: Hello! How are you today?\n",
      "Human: My name is Abhi and I stay in Berlin.\n",
      "AI: Nice to meet you, Abhi! Berlin is a wonderful city. What do you enjoy most about living there?\n",
      "Human: I have moved 33 times. If my average moving distance was 100 miles, how many miles took all my moves?\n",
      "AI: To calculate the total distance you have moved, you can multiply the number of moves by the average moving distance. \n",
      "\n",
      "33 moves x 100 miles = 3300 miles\n",
      "\n",
      "So, all your moves combined took you 3300 miles. That's quite a journey!\n",
      "Human: Do you remember my name?\u001b[0m\n",
      "\n",
      "\u001b[1m> Finished chain.\u001b[0m\n"
     ]
    },
    {
     "data": {
      "text/plain": [
       "{'question': 'Do you remember my name?',\n",
       " 'chat_history': [HumanMessage(content='hi'),\n",
       "  AIMessage(content='Hello! How are you today?'),\n",
       "  HumanMessage(content='My name is Abhi and I stay in Berlin.'),\n",
       "  AIMessage(content='Nice to meet you, Abhi! Berlin is a wonderful city. What do you enjoy most about living there?'),\n",
       "  HumanMessage(content='I have moved 33 times. If my average moving distance was 100 miles, how many miles took all my moves?'),\n",
       "  AIMessage(content=\"To calculate the total distance you have moved, you can multiply the number of moves by the average moving distance. \\n\\n33 moves x 100 miles = 3300 miles\\n\\nSo, all your moves combined took you 3300 miles. That's quite a journey!\"),\n",
       "  HumanMessage(content='Do you remember my name?'),\n",
       "  AIMessage(content=\"Yes, your name is Abhi. It's nice to chat with you, Abhi!\")],\n",
       " 'text': \"Yes, your name is Abhi. It's nice to chat with you, Abhi!\"}"
      ]
     },
     "execution_count": 8,
     "metadata": {},
     "output_type": "execute_result"
    }
   ],
   "source": [
    "conversation({\"question\": \"Do you remember my name?\"})"
   ]
  },
  {
   "cell_type": "code",
   "execution_count": 9,
   "id": "5911650f",
   "metadata": {},
   "outputs": [
    {
     "name": "stdout",
     "output_type": "stream",
     "text": [
      "[HumanMessage(content='hi'), AIMessage(content='Hello! How are you today?'), HumanMessage(content='My name is Abhi and I stay in Berlin.'), AIMessage(content='Nice to meet you, Abhi! Berlin is a wonderful city. What do you enjoy most about living there?'), HumanMessage(content='I have moved 33 times. If my average moving distance was 100 miles, how many miles took all my moves?'), AIMessage(content=\"To calculate the total distance you have moved, you can multiply the number of moves by the average moving distance. \\n\\n33 moves x 100 miles = 3300 miles\\n\\nSo, all your moves combined took you 3300 miles. That's quite a journey!\"), HumanMessage(content='Do you remember my name?'), AIMessage(content=\"Yes, your name is Abhi. It's nice to chat with you, Abhi!\")]\n"
     ]
    }
   ],
   "source": [
    "print(memory.buffer)"
   ]
  },
  {
   "cell_type": "markdown",
   "id": "8dc9a7f4",
   "metadata": {},
   "source": [
    "## Conversation Buffer Window Memory\n",
    "\n",
    "* Similar to the previous one, but **you can limit the number of conversational exchanges stored in memory**. For example, you can set it so it only remembers the last 3 questions and answers of the conversation. "
   ]
  },
  {
   "cell_type": "code",
   "execution_count": 10,
   "id": "a01ec08f",
   "metadata": {},
   "outputs": [],
   "source": [
    "from langchain.memory import ConversationBufferWindowMemory\n",
    "from langchain.chains import ConversationChain"
   ]
  },
  {
   "cell_type": "code",
   "execution_count": 11,
   "id": "19fd065e",
   "metadata": {},
   "outputs": [],
   "source": [
    "window_memory = ConversationBufferWindowMemory(k=3)"
   ]
  },
  {
   "cell_type": "code",
   "execution_count": 12,
   "id": "3bf2f6c2",
   "metadata": {},
   "outputs": [
    {
     "name": "stderr",
     "output_type": "stream",
     "text": [
      "<ipython-input-12-fc3f483a341c>:1: LangChainDeprecationWarning: The class `ConversationChain` was deprecated in LangChain 0.2.7 and will be removed in 1.0. Use RunnableWithMessageHistory: https://api.python.langchain.com/en/latest/runnables/langchain_core.runnables.history.RunnableWithMessageHistory.html instead.\n",
      "  conversation_window = ConversationChain(\n"
     ]
    }
   ],
   "source": [
    "conversation_window = ConversationChain(\n",
    "    llm=llm,\n",
    "    memory=window_memory,\n",
    "    verbose=True\n",
    ")"
   ]
  },
  {
   "cell_type": "code",
   "execution_count": 13,
   "id": "abcba789",
   "metadata": {},
   "outputs": [
    {
     "name": "stdout",
     "output_type": "stream",
     "text": [
      "\n",
      "\n",
      "\u001b[1m> Entering new ConversationChain chain...\u001b[0m\n",
      "Prompt after formatting:\n",
      "\u001b[32;1m\u001b[1;3mThe following is a friendly conversation between a human and an AI. The AI is talkative and provides lots of specific details from its context. If the AI does not know the answer to a question, it truthfully says it does not know.\n",
      "\n",
      "Current conversation:\n",
      "\n",
      "Human: Hi, my name is Abhi.\n",
      "AI:\u001b[0m\n",
      "\n",
      "\u001b[1m> Finished chain.\u001b[0m\n"
     ]
    },
    {
     "data": {
      "text/plain": [
       "{'input': 'Hi, my name is Abhi.',\n",
       " 'history': '',\n",
       " 'response': \"Hello Abhi! It's nice to meet you. How can I assist you today?\"}"
      ]
     },
     "execution_count": 13,
     "metadata": {},
     "output_type": "execute_result"
    }
   ],
   "source": [
    "conversation_window({\"input\": \"Hi, my name is Abhi.\"})"
   ]
  },
  {
   "cell_type": "code",
   "execution_count": 14,
   "id": "685c6b04",
   "metadata": {},
   "outputs": [
    {
     "name": "stdout",
     "output_type": "stream",
     "text": [
      "\n",
      "\n",
      "\u001b[1m> Entering new ConversationChain chain...\u001b[0m\n",
      "Prompt after formatting:\n",
      "\u001b[32;1m\u001b[1;3mThe following is a friendly conversation between a human and an AI. The AI is talkative and provides lots of specific details from its context. If the AI does not know the answer to a question, it truthfully says it does not know.\n",
      "\n",
      "Current conversation:\n",
      "Human: Hi, my name is Abhi.\n",
      "AI: Hello Abhi! It's nice to meet you. How can I assist you today?\n",
      "Human: I live in Berlin.\n",
      "AI:\u001b[0m\n",
      "\n",
      "\u001b[1m> Finished chain.\u001b[0m\n"
     ]
    },
    {
     "data": {
      "text/plain": [
       "{'input': 'I live in Berlin.',\n",
       " 'history': \"Human: Hi, my name is Abhi.\\nAI: Hello Abhi! It's nice to meet you. How can I assist you today?\",\n",
       " 'response': ' Berlin is the capital and largest city of Germany. It is known for its rich history, diverse culture, and vibrant arts scene. The city is home to many famous landmarks, such as the Brandenburg Gate, the Berlin Wall, and the Reichstag building. Berlin is also a hub for technology and innovation, with many startups and tech companies based in the city. Is there anything specific you would like to know about Berlin?'}"
      ]
     },
     "execution_count": 14,
     "metadata": {},
     "output_type": "execute_result"
    }
   ],
   "source": [
    "conversation_window({\"input\": \"I live in Berlin.\"})"
   ]
  },
  {
   "cell_type": "code",
   "execution_count": 15,
   "id": "92ad3506",
   "metadata": {},
   "outputs": [
    {
     "name": "stdout",
     "output_type": "stream",
     "text": [
      "\n",
      "\n",
      "\u001b[1m> Entering new ConversationChain chain...\u001b[0m\n",
      "Prompt after formatting:\n",
      "\u001b[32;1m\u001b[1;3mThe following is a friendly conversation between a human and an AI. The AI is talkative and provides lots of specific details from its context. If the AI does not know the answer to a question, it truthfully says it does not know.\n",
      "\n",
      "Current conversation:\n",
      "Human: Hi, my name is Abhi.\n",
      "AI: Hello Abhi! It's nice to meet you. How can I assist you today?\n",
      "Human: I live in Berlin.\n",
      "AI:  Berlin is the capital and largest city of Germany. It is known for its rich history, diverse culture, and vibrant arts scene. The city is home to many famous landmarks, such as the Brandenburg Gate, the Berlin Wall, and the Reichstag building. Berlin is also a hub for technology and innovation, with many startups and tech companies based in the city. Is there anything specific you would like to know about Berlin?\n",
      "Human: I am pursuing a Master's in Data Science.\n",
      "AI:\u001b[0m\n",
      "\n",
      "\u001b[1m> Finished chain.\u001b[0m\n"
     ]
    },
    {
     "data": {
      "text/plain": [
       "{'input': \"I am pursuing a Master's in Data Science.\",\n",
       " 'history': \"Human: Hi, my name is Abhi.\\nAI: Hello Abhi! It's nice to meet you. How can I assist you today?\\nHuman: I live in Berlin.\\nAI:  Berlin is the capital and largest city of Germany. It is known for its rich history, diverse culture, and vibrant arts scene. The city is home to many famous landmarks, such as the Brandenburg Gate, the Berlin Wall, and the Reichstag building. Berlin is also a hub for technology and innovation, with many startups and tech companies based in the city. Is there anything specific you would like to know about Berlin?\",\n",
       " 'response': \"That's great to hear! Data Science is a rapidly growing field that combines statistics, computer science, and domain expertise to extract insights from data. It involves techniques such as data mining, machine learning, and visualization to analyze and interpret complex data sets. Pursuing a Master's in Data Science will provide you with the skills and knowledge needed to excel in this field. Do you have any specific questions or topics you would like to discuss related to Data Science?\"}"
      ]
     },
     "execution_count": 15,
     "metadata": {},
     "output_type": "execute_result"
    }
   ],
   "source": [
    "conversation_window({\"input\": \"I am pursuing a Master's in Data Science.\"})"
   ]
  },
  {
   "cell_type": "code",
   "execution_count": 16,
   "id": "f7eeac30",
   "metadata": {},
   "outputs": [
    {
     "name": "stdout",
     "output_type": "stream",
     "text": [
      "\n",
      "\n",
      "\u001b[1m> Entering new ConversationChain chain...\u001b[0m\n",
      "Prompt after formatting:\n",
      "\u001b[32;1m\u001b[1;3mThe following is a friendly conversation between a human and an AI. The AI is talkative and provides lots of specific details from its context. If the AI does not know the answer to a question, it truthfully says it does not know.\n",
      "\n",
      "Current conversation:\n",
      "Human: Hi, my name is Abhi.\n",
      "AI: Hello Abhi! It's nice to meet you. How can I assist you today?\n",
      "Human: I live in Berlin.\n",
      "AI:  Berlin is the capital and largest city of Germany. It is known for its rich history, diverse culture, and vibrant arts scene. The city is home to many famous landmarks, such as the Brandenburg Gate, the Berlin Wall, and the Reichstag building. Berlin is also a hub for technology and innovation, with many startups and tech companies based in the city. Is there anything specific you would like to know about Berlin?\n",
      "Human: I am pursuing a Master's in Data Science.\n",
      "AI: That's great to hear! Data Science is a rapidly growing field that combines statistics, computer science, and domain expertise to extract insights from data. It involves techniques such as data mining, machine learning, and visualization to analyze and interpret complex data sets. Pursuing a Master's in Data Science will provide you with the skills and knowledge needed to excel in this field. Do you have any specific questions or topics you would like to discuss related to Data Science?\n",
      "Human: I love Berlin.\n",
      "AI:\u001b[0m\n",
      "\n",
      "\u001b[1m> Finished chain.\u001b[0m\n"
     ]
    },
    {
     "data": {
      "text/plain": [
       "{'input': 'I love Berlin.',\n",
       " 'history': \"Human: Hi, my name is Abhi.\\nAI: Hello Abhi! It's nice to meet you. How can I assist you today?\\nHuman: I live in Berlin.\\nAI:  Berlin is the capital and largest city of Germany. It is known for its rich history, diverse culture, and vibrant arts scene. The city is home to many famous landmarks, such as the Brandenburg Gate, the Berlin Wall, and the Reichstag building. Berlin is also a hub for technology and innovation, with many startups and tech companies based in the city. Is there anything specific you would like to know about Berlin?\\nHuman: I am pursuing a Master's in Data Science.\\nAI: That's great to hear! Data Science is a rapidly growing field that combines statistics, computer science, and domain expertise to extract insights from data. It involves techniques such as data mining, machine learning, and visualization to analyze and interpret complex data sets. Pursuing a Master's in Data Science will provide you with the skills and knowledge needed to excel in this field. Do you have any specific questions or topics you would like to discuss related to Data Science?\",\n",
       " 'response': \"I'm glad to hear that you love Berlin! It's a fantastic city with so much to offer in terms of culture, history, and innovation. Is there anything specific about Berlin that you enjoy the most? Perhaps the food, the art scene, or the architecture? Let me know if there's anything else you'd like to talk about!\"}"
      ]
     },
     "execution_count": 16,
     "metadata": {},
     "output_type": "execute_result"
    }
   ],
   "source": [
    "conversation_window({\"input\": \"I love Berlin.\"})"
   ]
  },
  {
   "cell_type": "code",
   "execution_count": 17,
   "id": "18953826",
   "metadata": {},
   "outputs": [
    {
     "name": "stdout",
     "output_type": "stream",
     "text": [
      "\n",
      "\n",
      "\u001b[1m> Entering new ConversationChain chain...\u001b[0m\n",
      "Prompt after formatting:\n",
      "\u001b[32;1m\u001b[1;3mThe following is a friendly conversation between a human and an AI. The AI is talkative and provides lots of specific details from its context. If the AI does not know the answer to a question, it truthfully says it does not know.\n",
      "\n",
      "Current conversation:\n",
      "Human: I live in Berlin.\n",
      "AI:  Berlin is the capital and largest city of Germany. It is known for its rich history, diverse culture, and vibrant arts scene. The city is home to many famous landmarks, such as the Brandenburg Gate, the Berlin Wall, and the Reichstag building. Berlin is also a hub for technology and innovation, with many startups and tech companies based in the city. Is there anything specific you would like to know about Berlin?\n",
      "Human: I am pursuing a Master's in Data Science.\n",
      "AI: That's great to hear! Data Science is a rapidly growing field that combines statistics, computer science, and domain expertise to extract insights from data. It involves techniques such as data mining, machine learning, and visualization to analyze and interpret complex data sets. Pursuing a Master's in Data Science will provide you with the skills and knowledge needed to excel in this field. Do you have any specific questions or topics you would like to discuss related to Data Science?\n",
      "Human: I love Berlin.\n",
      "AI: I'm glad to hear that you love Berlin! It's a fantastic city with so much to offer in terms of culture, history, and innovation. Is there anything specific about Berlin that you enjoy the most? Perhaps the food, the art scene, or the architecture? Let me know if there's anything else you'd like to talk about!\n",
      "Human: I love the vibe, history, and landmarks of Berlin.\n",
      "AI:\u001b[0m\n",
      "\n",
      "\u001b[1m> Finished chain.\u001b[0m\n"
     ]
    },
    {
     "data": {
      "text/plain": [
       "{'input': 'I love the vibe, history, and landmarks of Berlin.',\n",
       " 'history': \"Human: I live in Berlin.\\nAI:  Berlin is the capital and largest city of Germany. It is known for its rich history, diverse culture, and vibrant arts scene. The city is home to many famous landmarks, such as the Brandenburg Gate, the Berlin Wall, and the Reichstag building. Berlin is also a hub for technology and innovation, with many startups and tech companies based in the city. Is there anything specific you would like to know about Berlin?\\nHuman: I am pursuing a Master's in Data Science.\\nAI: That's great to hear! Data Science is a rapidly growing field that combines statistics, computer science, and domain expertise to extract insights from data. It involves techniques such as data mining, machine learning, and visualization to analyze and interpret complex data sets. Pursuing a Master's in Data Science will provide you with the skills and knowledge needed to excel in this field. Do you have any specific questions or topics you would like to discuss related to Data Science?\\nHuman: I love Berlin.\\nAI: I'm glad to hear that you love Berlin! It's a fantastic city with so much to offer in terms of culture, history, and innovation. Is there anything specific about Berlin that you enjoy the most? Perhaps the food, the art scene, or the architecture? Let me know if there's anything else you'd like to talk about!\",\n",
       " 'response': \"That's wonderful to hear! Berlin's unique vibe, rich history, and iconic landmarks definitely make it a special place to live in. The city's blend of old and new, with historical sites like the Berlin Wall and modern attractions like the East Side Gallery, create a dynamic and vibrant atmosphere. The city's history is also reflected in its architecture, with a mix of classical and contemporary styles. Is there a particular landmark or historical event in Berlin that fascinates you the most? Let me know if you'd like to learn more about it!\"}"
      ]
     },
     "execution_count": 17,
     "metadata": {},
     "output_type": "execute_result"
    }
   ],
   "source": [
    "conversation_window({\"input\": \"I love the vibe, history, and landmarks of Berlin.\"})"
   ]
  },
  {
   "cell_type": "code",
   "execution_count": 18,
   "id": "782654db",
   "metadata": {},
   "outputs": [
    {
     "name": "stdout",
     "output_type": "stream",
     "text": [
      "\n",
      "\n",
      "\u001b[1m> Entering new ConversationChain chain...\u001b[0m\n",
      "Prompt after formatting:\n",
      "\u001b[32;1m\u001b[1;3mThe following is a friendly conversation between a human and an AI. The AI is talkative and provides lots of specific details from its context. If the AI does not know the answer to a question, it truthfully says it does not know.\n",
      "\n",
      "Current conversation:\n",
      "Human: I am pursuing a Master's in Data Science.\n",
      "AI: That's great to hear! Data Science is a rapidly growing field that combines statistics, computer science, and domain expertise to extract insights from data. It involves techniques such as data mining, machine learning, and visualization to analyze and interpret complex data sets. Pursuing a Master's in Data Science will provide you with the skills and knowledge needed to excel in this field. Do you have any specific questions or topics you would like to discuss related to Data Science?\n",
      "Human: I love Berlin.\n",
      "AI: I'm glad to hear that you love Berlin! It's a fantastic city with so much to offer in terms of culture, history, and innovation. Is there anything specific about Berlin that you enjoy the most? Perhaps the food, the art scene, or the architecture? Let me know if there's anything else you'd like to talk about!\n",
      "Human: I love the vibe, history, and landmarks of Berlin.\n",
      "AI: That's wonderful to hear! Berlin's unique vibe, rich history, and iconic landmarks definitely make it a special place to live in. The city's blend of old and new, with historical sites like the Berlin Wall and modern attractions like the East Side Gallery, create a dynamic and vibrant atmosphere. The city's history is also reflected in its architecture, with a mix of classical and contemporary styles. Is there a particular landmark or historical event in Berlin that fascinates you the most? Let me know if you'd like to learn more about it!\n",
      "Human: Do you remember my name?\n",
      "AI:\u001b[0m\n",
      "\n",
      "\u001b[1m> Finished chain.\u001b[0m\n"
     ]
    },
    {
     "data": {
      "text/plain": [
       "{'input': 'Do you remember my name?',\n",
       " 'history': \"Human: I am pursuing a Master's in Data Science.\\nAI: That's great to hear! Data Science is a rapidly growing field that combines statistics, computer science, and domain expertise to extract insights from data. It involves techniques such as data mining, machine learning, and visualization to analyze and interpret complex data sets. Pursuing a Master's in Data Science will provide you with the skills and knowledge needed to excel in this field. Do you have any specific questions or topics you would like to discuss related to Data Science?\\nHuman: I love Berlin.\\nAI: I'm glad to hear that you love Berlin! It's a fantastic city with so much to offer in terms of culture, history, and innovation. Is there anything specific about Berlin that you enjoy the most? Perhaps the food, the art scene, or the architecture? Let me know if there's anything else you'd like to talk about!\\nHuman: I love the vibe, history, and landmarks of Berlin.\\nAI: That's wonderful to hear! Berlin's unique vibe, rich history, and iconic landmarks definitely make it a special place to live in. The city's blend of old and new, with historical sites like the Berlin Wall and modern attractions like the East Side Gallery, create a dynamic and vibrant atmosphere. The city's history is also reflected in its architecture, with a mix of classical and contemporary styles. Is there a particular landmark or historical event in Berlin that fascinates you the most? Let me know if you'd like to learn more about it!\",\n",
       " 'response': \"I'm sorry, but I don't have the ability to remember personal information about individuals. My purpose is to provide information and assistance based on the context of our conversation. If there's anything specific you'd like to discuss or learn more about, feel free to let me know!\"}"
      ]
     },
     "execution_count": 18,
     "metadata": {},
     "output_type": "execute_result"
    }
   ],
   "source": [
    "conversation_window({\"input\": \"Do you remember my name?\"})"
   ]
  },
  {
   "cell_type": "markdown",
   "id": "7151a82b",
   "metadata": {},
   "source": [
    "## Chat Message History\n",
    "\n",
    "* Save list of chat messages and then fetch them all."
   ]
  },
  {
   "cell_type": "code",
   "execution_count": 19,
   "id": "213605a2",
   "metadata": {},
   "outputs": [],
   "source": [
    "from langchain_openai import ChatOpenAI\n",
    "\n",
    "llm = ChatOpenAI(model=\"gpt-3.5-turbo-0125\")"
   ]
  },
  {
   "cell_type": "code",
   "execution_count": 20,
   "id": "cc5b825d",
   "metadata": {},
   "outputs": [],
   "source": [
    "from langchain.memory import ChatMessageHistory\n",
    "\n",
    "history = ChatMessageHistory()\n",
    "\n",
    "history.add_user_message(\"hi!\")\n",
    "\n",
    "history.add_ai_message(\"what's up?\")"
   ]
  },
  {
   "cell_type": "code",
   "execution_count": 21,
   "id": "486f4bfe",
   "metadata": {},
   "outputs": [
    {
     "data": {
      "text/plain": [
       "[HumanMessage(content='hi!'), AIMessage(content=\"what's up?\")]"
      ]
     },
     "execution_count": 21,
     "metadata": {},
     "output_type": "execute_result"
    }
   ],
   "source": [
    "history.messages"
   ]
  },
  {
   "cell_type": "markdown",
   "id": "6ba85f1b",
   "metadata": {},
   "source": [
    "For more information: https://python.langchain.com/docs/versions/migrating_memory/"
   ]
  }
 ],
 "metadata": {
  "kernelspec": {
   "display_name": "Python 3",
   "language": "python",
   "name": "python3"
  },
  "language_info": {
   "codemirror_mode": {
    "name": "ipython",
    "version": 3
   },
   "file_extension": ".py",
   "mimetype": "text/x-python",
   "name": "python",
   "nbconvert_exporter": "python",
   "pygments_lexer": "ipython3",
   "version": "3.11.11"
  }
 },
 "nbformat": 4,
 "nbformat_minor": 5
}
