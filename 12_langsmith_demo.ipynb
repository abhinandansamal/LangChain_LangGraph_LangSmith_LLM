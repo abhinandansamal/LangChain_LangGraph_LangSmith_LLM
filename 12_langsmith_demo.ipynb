{
 "cells": [
  {
   "cell_type": "markdown",
   "id": "4e95a5ac",
   "metadata": {},
   "source": [
    "## LangSmith\n",
    "\n",
    "Using LangSmith, we can do:\n",
    "* Monitoring\n",
    "* Debugging\n",
    "* Tracing\n",
    "* Evaluation\n",
    "\n",
    "of your application.\n",
    "\n",
    "* This is also known as the `LLMOps` platform by LangChain.\n",
    "\n",
    "For more information: https://docs.smith.langchain.com/"
   ]
  },
  {
   "cell_type": "code",
   "execution_count": 5,
   "id": "5d06056a",
   "metadata": {},
   "outputs": [],
   "source": [
    "import os\n",
    "from dotenv import load_dotenv\n",
    "from langchain_google_genai import ChatGoogleGenerativeAI\n",
    "from langchain_core.prompts import ChatPromptTemplate\n",
    "from langchain_core.output_parsers import StrOutputParser"
   ]
  },
  {
   "cell_type": "code",
   "execution_count": 2,
   "id": "3017c869",
   "metadata": {},
   "outputs": [],
   "source": [
    "load_dotenv()\n",
    "\n",
    "os.environ[\"GOOGLE_API_KEY\"] = os.getenv(\"GOOGLE_API_KEY\")\n",
    "os.environ[\"LANGCHAIN_TRACING_V2\"] = \"true\"\n",
    "os.environ[\"LANGCHAIN_API_KEY\"] = os.getenv(\"LANGCHAIN_API_KEY\")"
   ]
  },
  {
   "cell_type": "code",
   "execution_count": 6,
   "id": "95895542",
   "metadata": {},
   "outputs": [],
   "source": [
    "prompt = ChatPromptTemplate.from_messages(\n",
    "    [\n",
    "        (\"system\", \"You are a helpful assistant. Please response to the user request only based on the given context.\"),\n",
    "        (\"user\", \"Question:{question}\\nContext:{context}\")\n",
    "    ]\n",
    ")"
   ]
  },
  {
   "cell_type": "code",
   "execution_count": 7,
   "id": "b4238283",
   "metadata": {},
   "outputs": [],
   "source": [
    "model = ChatGoogleGenerativeAI(model=\"gemini-2.0-flash\")\n",
    "\n",
    "output_parser = StrOutputParser()"
   ]
  },
  {
   "cell_type": "markdown",
   "id": "7c110ae4",
   "metadata": {},
   "source": [
    "https://python.langchain.com/docs/integrations/chat/google_generative_ai/"
   ]
  },
  {
   "cell_type": "code",
   "execution_count": 8,
   "id": "1dea1420",
   "metadata": {},
   "outputs": [],
   "source": [
    "chain = prompt | model | output_parser"
   ]
  },
  {
   "cell_type": "code",
   "execution_count": 9,
   "id": "c7a549a6",
   "metadata": {},
   "outputs": [],
   "source": [
    "question = \"Can you summarize this story?\"\n",
    "\n",
    "context = \"\"\"\"\n",
    "Once upon a time, in the heart of a vast savanna glowing in golden sunlight, lived a little lion cub named Simba. Simba wasn't just any cub; he was a prince, destined to be king one day.\n",
    "\n",
    "His father, Mufasa, the mighty lion with a mane like a crown, ruled the land with wisdom and kindness. He taught Simba all about the Circle of Life, a beautiful way of explaining how everything in the world was connected. Just like the sun sets to make way for the moon and the grass feeds the zebras, everything had its place and purpose.\n",
    "\n",
    "Simba's best friend was Nala, a playful little lioness with fur as golden as the setting sun. Together, they explored the savanna, chased butterflies, and pounced on imaginary enemies. They were inseparable, two little adventurers with the whole world ahead of them.\n",
    "\n",
    "One day, Simba's sneaky uncle, Scar, a cunning lion with a dark mane, decided he wanted to be king instead of Simba. He tricked Simba and his father into a dangerous stampede of wildebeests. Mufasa, trying to save Simba, got caught in the rushing herd and was tragically lost.\n",
    "\n",
    "Simba was very sad and scared. He ran away from the Pride Lands, his home, feeling alone. He stumbled into a lush jungle, far away from everything he knew. There, he was found by Timon and Pumbaa, a meerkat and a warthog who lived by the motto “Hakuna Matata” - no worries!\n",
    "\n",
    "Timon and Pumbaa, though different from Simba, cared for him like family. They taught him to forget his past and enjoy the carefree life in the jungle. Simba grew bigger and stronger, forgetting his royal lineage and the responsibility that came with it.\n",
    "\n",
    "Years passed, and Simba became a handsome young lion. One day, while chasing a clever bug named Rafiki, the wise mandrill who served as the royal advisor, Simba bumped into Nala, now a beautiful lioness. Nala, surprised to see Simba, was happy but also worried.\n",
    "\n",
    "She saw that Simba had forgotten his past and the troubles the Pride Lands faced. Scar, the mean uncle, had become king and turned the once flourishing land into a barren wasteland. Scar's time as king was marked by laziness, selfishness, and not caring about the Circle of Life.\n",
    "\n",
    "Nala begged Simba to come back and be the true king. Simba, unsure at first, remembered the things his father taught him and the pride he felt being Mufasa's son. He realized he couldn't ignore his responsibility and let Scar keep ruining the Pride Lands.\n",
    "\n",
    "With new courage and Nala by his side, Simba journeyed back home. He met with Rafiki, who reminded him of who he truly was - a future king. Rafiki also showed Simba his reflection in the water, where he saw his father's eyes staring back.\n",
    "\n",
    "Simba understood. He was Mufasa's son, and the future king. He couldn't let fear stop him anymore. He had to fight for what was right, not just for himself, but for the whole Pride Lands.\n",
    "\n",
    "Simba returned with a roar, challenging Scar for the kingship. A big fight happened, Simba remembering his training and fighting with the courage of a true king. Scar, weakened by years of laziness, was eventually defeated.\n",
    "\n",
    "With Scar gone, Simba climbed up Pride Rock, the symbol of royalty. He looked over the land, once barren but now hopeful for a better future. Nala stood beside him, and together, they began to fix the damage Scar had caused.\n",
    "\n",
    "Simba, remembering the Circle of Life, knew everyone had a role to play. He restored the balance in the Pride Lands, allowing the animals to live in peace and harmony. Simba became a wise and fair king, just like his father.\n",
    "\n",
    "And so, the little lion cub who once ran away, scared and alone, returned as a strong and responsible leader. He had learned that facing your fears, honoring your family, and understanding the Circle of Life were the true marks of a king.\n",
    "\n",
    "The End!\n",
    "\"\"\""
   ]
  },
  {
   "cell_type": "code",
   "execution_count": 10,
   "id": "86ee9a68",
   "metadata": {},
   "outputs": [
    {
     "name": "stdout",
     "output_type": "stream",
     "text": [
      "Simba, a lion cub and prince, is destined to be king but is tricked by his uncle Scar into running away after his father Mufasa's death. Simba befriends Timon and Pumbaa and lives a carefree life until Nala reminds him of his responsibilities and Scar's mismanagement of the Pride Lands. Simba returns, defeats Scar, and restores balance to the Pride Lands, becoming a wise and fair king.\n",
      "\n"
     ]
    }
   ],
   "source": [
    "print(chain.invoke({\"question\": question, \"context\": context}))"
   ]
  },
  {
   "cell_type": "markdown",
   "id": "7fda08e1",
   "metadata": {},
   "source": [
    "Now go to https://smith.langchain.com/o/10faf30f-c5d0-4253-8496-b92d70507d8c (LangSmith platform) -> Tracing Projects, to see the details of the project."
   ]
  },
  {
   "cell_type": "code",
   "execution_count": 11,
   "id": "ef93e984",
   "metadata": {},
   "outputs": [
    {
     "name": "stdout",
     "output_type": "stream",
     "text": [
      "The story of \"Beauty and the Beast\" is about a kind young woman named Belle who sacrifices herself to save her father from a scary Beast. As Belle spends time with the Beast in his castle, they develop a deep connection through shared stories and kindness. Eventually, their love breaks the curse placed on the Beast, turning him back into a handsome prince. The story highlights the importance of inner beauty, love, and kindness in overcoming challenges.\n"
     ]
    }
   ],
   "source": [
    "# using OpenAI model\n",
    "from langchain_openai import ChatOpenAI\n",
    "\n",
    "gpt_model = ChatOpenAI(model=\"gpt-3.5-turbo-0125\")\n",
    "\n",
    "chain = prompt | gpt_model | output_parser\n",
    "\n",
    "question = \"Can you summarize this story?\"\n",
    "\n",
    "context = \"\"\"\n",
    "Once upon a time, in a small village deep in a forest, there lived a kind young woman named Belle. She loved reading books, and everyone knew her for her warm heart and her beauty. Belle had dark hair like the night, eyes as deep as the ocean, and a spirit as free as a bird.\n",
    "\n",
    "Belle lived with her father, Maurice, who was an inventor. He made new gadgets and gizmos, and Belle loved listening to his stories and helping him with his experiments. The villagers thought Belle was different because she loved books and dreamed of adventures, but Belle didn't mind.\n",
    "\n",
    "One day, Maurice set off on a journey to show his invention to another village. On the way, he got lost in the dark, scary forest. The wind howled, and the trees seemed to whisper secrets. Maurice found a big, spooky castle and went inside to find shelter.\n",
    "\n",
    "Inside, he met the owner of the castle, a scary Beast. The Beast was once a handsome prince, but an enchantress had turned him into a Beast because he was selfish and mean. To break the curse, someone had to love him despite his appearance.\n",
    "\n",
    "The Beast locked Maurice in a dungeon for trespassing. Maurice's horse, Philippe, ran back to the village to tell Belle what happened. Belle bravely went to the castle to rescue her father. When she found him in the dungeon, she offered to take his place as the Beast's prisoner. The Beast agreed and let Maurice go.\n",
    "\n",
    "Belle stayed in the castle and found the Beast was not only scary but also sad and lonely. She discovered a huge library and loved reading the books. Over time, Belle and the Beast talked, read, and shared stories. Belle learned about the curse and wanted to help break it. The Beast began to care for Belle's intelligence, beauty, and kindness.\n",
    "\n",
    "Meanwhile, Gaston, a boastful man from the village who wanted to marry Belle, made a plan to force her into marriage. He gathered the villagers and went to the castle, where a big fight happened.\n",
    "\n",
    "The Beast, who loved Belle, fought to protect her. When Gaston's plan was revealed, the villagers turned against him. Belle's love for the Beast and the Beast's love for her broke the curse. The Beast turned back into a handsome prince, and Belle's kindness was rewarded.\n",
    "\n",
    "Belle and the prince got married in a grand ceremony, surrounded by the enchanted objects in the castle that had also been freed from the curse. The villagers learned to appreciate Belle's unique qualities, and Belle and the prince lived happily ever after.\n",
    "\n",
    "And so, my dear child, that is the end of the story of Beauty and the Beast. It teaches us that true beauty is inside us, and love and kindness can change even the hardest problems. Now, close your eyes and dream of a world full of magic and love. Goodnight, and may your dreams be as beautiful as Belle's heart.\n",
    "\n",
    "The End!\n",
    "\"\"\"\n",
    "\n",
    "print(chain.invoke({\"question\": question, \"context\": context}))"
   ]
  },
  {
   "cell_type": "code",
   "execution_count": 12,
   "id": "f5a322cc",
   "metadata": {},
   "outputs": [
    {
     "name": "stdout",
     "output_type": "stream",
     "text": [
      "Here's a summary of the story:\n",
      "\n",
      "A mother duck has a baby duckling that is different from the rest due to his grayish color. The other ducklings tease him, making him feel sad and alone. The little duckling decides to leave the pond to find a place where he belongs. He travels through various landscapes, facing questions and criticism from other animals, but he doesn't give up. When autumn arrives, he finds a beautiful lake and a group of swans who welcome him with kindness. The swans teach him that true beauty comes from being kind, brave, and true to oneself. As time passes, the little duckling transforms into a beautiful swan, and he finally feels like he belongs. He learns that true beauty is not just about physical appearance, but about inner qualities and self-acceptance.\n"
     ]
    }
   ],
   "source": [
    "# using Groq model\n",
    "from langchain_groq import ChatGroq\n",
    "\n",
    "groq_model = ChatGroq(model=\"llama-3.1-8b-instant\")\n",
    "\n",
    "chain = prompt | groq_model | output_parser\n",
    "\n",
    "question = \"Can you summarize this story?\"\n",
    "\n",
    "context = \"\"\"\n",
    "Once upon a time, in a quiet pond with tall plants and pretty flowers around it, a mother duck waited excitedly for her eggs to hatch. Finally, the day came when one egg cracked open, and out came a tiny, grayish duckling. Even though the mother duck loved all her babies, she noticed that this little one looked different from the rest.\n",
    "\n",
    "“My dear, you may not be as pretty as your siblings, but you are just as special,” she said, giving the duckling lots of love.\n",
    "\n",
    "But as the days passed, the little duckling noticed that the other ducklings made fun of him because he looked different. Feeling sad and alone, he decided to leave the pond and find a place where he could belong.\n",
    "\n",
    "He traveled through fields and woods, hoping to find friends who would accept him for who he was. Along the way, he met other animals who wondered about his different look.\n",
    "\n",
    "“You don't look like us,” said the rabbits.\n",
    "\n",
    "“Why are you so gray?” asked the bluebirds.\n",
    "\n",
    "The little duckling felt sad with every question, but he kept going, hoping to find his real home.\n",
    "\n",
    "As autumn came, he found a beautiful lake shining in the sunlight. There, he saw a group of beautiful swans swimming on the water, their wings shining like silver.\n",
    "\n",
    "Enchanted by their beauty, the little duckling went to them. But as he got closer, he was unsure, remembering how he had been treated before. He was afraid the swans would not want him too.\n",
    "\n",
    "To his surprise, the swans welcomed him. “Hello there, little friend. You are welcome to join us,” said the kindest swan.\n",
    "\n",
    "“But I'm not beautiful like you. I'm just an ugly duckling,” he said with a bit of sadness.\n",
    "\n",
    "The kind swan smiled. “You may think that now, but beauty is not just about looks. It's about being kind, brave, and true to yourself. Come, let us be friends.”\n",
    "\n",
    "With new hope and happiness, the little duckling joined his new friends. As time passed, he felt a feeling of fitting in he had never felt before. He swam with the swans, played games, and laughed under the moon.\n",
    "\n",
    "One morning, as he looked at his reflection in the lake, he saw a beautiful creature staring back at him. His once dull feathers had turned white, and he realized that he had grown into a beautiful swan, just like his new friends.\n",
    "\n",
    "From that day on, the little duckling was no longer the “Ugly Duckling.” He had become a brave and graceful swan, ready to face any challenge that came his way. And he knew that true beauty was inside.\n",
    "\"\"\"\n",
    "\n",
    "print(chain.invoke({\"question\": question, \"context\": context}))"
   ]
  }
 ],
 "metadata": {
  "kernelspec": {
   "display_name": "Python 3",
   "language": "python",
   "name": "python3"
  },
  "language_info": {
   "codemirror_mode": {
    "name": "ipython",
    "version": 3
   },
   "file_extension": ".py",
   "mimetype": "text/x-python",
   "name": "python",
   "nbconvert_exporter": "python",
   "pygments_lexer": "ipython3",
   "version": "3.11.11"
  }
 },
 "nbformat": 4,
 "nbformat_minor": 5
}
