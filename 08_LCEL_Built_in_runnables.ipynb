{
 "cells": [
  {
   "cell_type": "code",
   "execution_count": 1,
   "id": "9e32d641",
   "metadata": {},
   "outputs": [],
   "source": [
    "import os\n",
    "from dotenv import find_dotenv, load_dotenv\n",
    "_ = load_dotenv(find_dotenv())\n",
    "openai_api_key = os.environ[\"OPENAI_API_KEY\"]"
   ]
  },
  {
   "cell_type": "code",
   "execution_count": 2,
   "id": "82fb2f2d",
   "metadata": {},
   "outputs": [],
   "source": [
    "from langchain_openai import ChatOpenAI\n",
    "\n",
    "model = ChatOpenAI(model=\"gpt-3.5-turbo-0125\")"
   ]
  },
  {
   "cell_type": "markdown",
   "id": "146c8cbe",
   "metadata": {},
   "source": [
    "## RunnablePassthrough\n",
    "\n",
    "* It does not do anything to the input data.\n",
    "* Let's see it in a very simple example: a chain with just RunnablePassthrough() will output the original input without any modification."
   ]
  },
  {
   "cell_type": "code",
   "execution_count": 3,
   "id": "46c1e439",
   "metadata": {},
   "outputs": [],
   "source": [
    "from langchain_core.runnables import RunnablePassthrough\n",
    "\n",
    "chain = RunnablePassthrough()"
   ]
  },
  {
   "cell_type": "code",
   "execution_count": 4,
   "id": "ff6602ae",
   "metadata": {},
   "outputs": [
    {
     "data": {
      "text/plain": [
       "'Abhi'"
      ]
     },
     "execution_count": 4,
     "metadata": {},
     "output_type": "execute_result"
    }
   ],
   "source": [
    "chain.invoke(\"Abhi\")"
   ]
  },
  {
   "cell_type": "markdown",
   "id": "978df4cc",
   "metadata": {},
   "source": [
    "## RunnableLambda\n",
    "\n",
    "* To use a custom function inside a LCEL chain we need to wrap it up with RunnableLambda."
   ]
  },
  {
   "cell_type": "code",
   "execution_count": 5,
   "id": "44dfa969",
   "metadata": {},
   "outputs": [],
   "source": [
    "# Let's define a very simple function to create Russian lastnames\n",
    "def russain_lastname(name: str) -> str:\n",
    "    return f\"{name}ovich\""
   ]
  },
  {
   "cell_type": "code",
   "execution_count": 6,
   "id": "b0a38c98",
   "metadata": {},
   "outputs": [
    {
     "data": {
      "text/plain": [
       "'Abhiovich'"
      ]
     },
     "execution_count": 6,
     "metadata": {},
     "output_type": "execute_result"
    }
   ],
   "source": [
    "from langchain_core.runnables import RunnableLambda\n",
    "\n",
    "chain = RunnablePassthrough() | RunnableLambda(russain_lastname)\n",
    "\n",
    "chain.invoke(\"Abhi\")"
   ]
  },
  {
   "cell_type": "markdown",
   "id": "e3b38dc2",
   "metadata": {},
   "source": [
    "## RunnableParallel\n",
    "\n",
    "* We will use RunnableParallel() for running tasks in parallel.\n",
    "* This is probably the most important and most useful Runnable from LangChain.\n",
    "\n",
    "In the following chain, RunnableParallel is going to run these two tasks in parallel:\n",
    "* operation_a will use RunnablePassthrough.\n",
    "* operation_b will use RunnableLambda with the russian_lastname function."
   ]
  },
  {
   "cell_type": "code",
   "execution_count": 7,
   "id": "20492888",
   "metadata": {},
   "outputs": [
    {
     "data": {
      "text/plain": [
       "{'operation_a': 'Abhi', 'operation_b': 'Abhiovich'}"
      ]
     },
     "execution_count": 7,
     "metadata": {},
     "output_type": "execute_result"
    }
   ],
   "source": [
    "from langchain_core.runnables import RunnableParallel\n",
    "\n",
    "chain = RunnableParallel(\n",
    "    {\n",
    "        \"operation_a\": RunnablePassthrough(),\n",
    "        \"operation_b\": RunnableLambda(russain_lastname)\n",
    "    }\n",
    ")\n",
    "\n",
    "chain.invoke(\"Abhi\")"
   ]
  },
  {
   "cell_type": "code",
   "execution_count": 8,
   "id": "aab98022",
   "metadata": {},
   "outputs": [
    {
     "data": {
      "text/plain": [
       "\"Roman Abramovich, the Russian billionaire and owner of Chelsea Football Club, once owned the world's largest private yacht. Named Eclipse, the yacht cost an estimated $1.5 billion to build and is equipped with two swimming pools, a helicopter pad, a submarine, and even a missile defense system.\""
      ]
     },
     "execution_count": 8,
     "metadata": {},
     "output_type": "execute_result"
    }
   ],
   "source": [
    "# another example\n",
    "from langchain_core.output_parsers import StrOutputParser\n",
    "from langchain_core.prompts import ChatPromptTemplate\n",
    "\n",
    "prompt = ChatPromptTemplate.from_template(\"Tell me a curious fact about {soccer_player}.\")\n",
    "\n",
    "output_parser = StrOutputParser()\n",
    "\n",
    "def russian_lastname_from_dictionary(person):\n",
    "    return person[\"name\"] + \"ovich\"\n",
    "\n",
    "chain = RunnableParallel(\n",
    "    {\n",
    "        \"operation_a\": RunnablePassthrough(),\n",
    "        \"soccer_player\": RunnableLambda(russian_lastname_from_dictionary),\n",
    "        \"operation_c\": RunnablePassthrough()\n",
    "    }\n",
    ") | prompt | model | output_parser\n",
    "\n",
    "chain.invoke(\n",
    "    {\n",
    "        \"name1\": \"Jordam\",\n",
    "        \"name\": \"Abram\"\n",
    "    }\n",
    ")"
   ]
  },
  {
   "cell_type": "markdown",
   "id": "01acfc83",
   "metadata": {},
   "source": [
    "### More advanced use of RunnableParallel"
   ]
  },
  {
   "cell_type": "code",
   "execution_count": 11,
   "id": "c7a3ab66",
   "metadata": {},
   "outputs": [
    {
     "data": {
      "text/plain": [
       "'Abhi has 6 years of work experience as an IT Professional in India.'"
      ]
     },
     "execution_count": 11,
     "metadata": {},
     "output_type": "execute_result"
    }
   ],
   "source": [
    "from langchain_community.vectorstores import FAISS\n",
    "from langchain_core.output_parsers import StrOutputParser\n",
    "from langchain_core.prompts import ChatPromptTemplate\n",
    "from langchain_core.runnables import RunnablePassthrough, RunnableParallel\n",
    "from langchain_openai import ChatOpenAI, OpenAIEmbeddings\n",
    "\n",
    "\n",
    "vectorstore = FAISS.from_texts(\n",
    "    [\"Abhi is pursuing Master's in Data Science at IU International University of Applied Sciences. He is staying in Berlin, Germany. He has 6 years of work experience as an IT Professional in India. He is also an AI enthusiast and has a keen interest in AI and ML. He is also a data science enthusiast and has a keen interest in data science.\"],\n",
    "    embedding=OpenAIEmbeddings()\n",
    ")\n",
    "\n",
    "retriever = vectorstore.as_retriever()\n",
    "\n",
    "template = \"\"\"Answer the question based on the following context: \n",
    "{context}\n",
    "\n",
    "Question: {question}\n",
    "\"\"\"\n",
    "\n",
    "prompt = ChatPromptTemplate.from_template(template)\n",
    "\n",
    "model = ChatOpenAI(model=\"gpt-3.5-turbo-0125\")\n",
    "\n",
    "retrieval_chain = (\n",
    "    RunnableParallel({\"context\": retriever, \"question\": RunnablePassthrough()})\n",
    "    | prompt\n",
    "    | model\n",
    "    | StrOutputParser()\n",
    ")\n",
    "\n",
    "retrieval_chain.invoke(\"What is Abhi's work experience?\")"
   ]
  },
  {
   "cell_type": "code",
   "execution_count": 12,
   "id": "70df2a79",
   "metadata": {},
   "outputs": [
    {
     "data": {
      "text/plain": [
       "'Abhi hat 6 Jahre Berufserfahrung als IT-Professional in Indien.'"
      ]
     },
     "execution_count": 12,
     "metadata": {},
     "output_type": "execute_result"
    }
   ],
   "source": [
    "# another example\n",
    "from operator import itemgetter\n",
    "from langchain_community.vectorstores import FAISS\n",
    "from langchain_core.output_parsers import StrOutputParser\n",
    "from langchain_core.prompts import ChatPromptTemplate\n",
    "from langchain_core.runnables import RunnablePassthrough\n",
    "from langchain_openai import ChatOpenAI, OpenAIEmbeddings\n",
    "\n",
    "\n",
    "model = ChatOpenAI(model=\"gpt-3.5-turbo-0125\")\n",
    "\n",
    "vectorstore = FAISS.from_texts(\n",
    "    [\"Abhi is pursuing Master's in Data Science at IU International University of Applied Sciences. He is staying in Berlin, Germany. He has 6 years of work experience as an IT Professional in India. He is also an AI enthusiast and has a keen interest in AI and ML. He is also a data science enthusiast and has a keen interest in data science.\"],\n",
    "    embedding=OpenAIEmbeddings()\n",
    ")\n",
    "\n",
    "retriever = vectorstore.as_retriever()\n",
    "\n",
    "template = \"\"\"Answer the question based on the following context:\n",
    "{context}\n",
    "\n",
    "Question: {question}\n",
    "\n",
    "Answer in the following language: {language}\n",
    "\"\"\"\n",
    "\n",
    "prompt = ChatPromptTemplate.from_template(template)\n",
    "\n",
    "chain = (\n",
    "    {\n",
    "        \"context\": itemgetter(\"question\") | retriever,\n",
    "        \"question\": itemgetter(\"question\"),\n",
    "        \"language\": itemgetter(\"language\")\n",
    "    }\n",
    "    | prompt | model | StrOutputParser()\n",
    ")\n",
    "\n",
    "chain.invoke({\"question\": \"What is Abhi's work experience?\", \"language\": \"German\"})"
   ]
  }
 ],
 "metadata": {
  "kernelspec": {
   "display_name": "Python 3",
   "language": "python",
   "name": "python3"
  },
  "language_info": {
   "codemirror_mode": {
    "name": "ipython",
    "version": 3
   },
   "file_extension": ".py",
   "mimetype": "text/x-python",
   "name": "python",
   "nbconvert_exporter": "python",
   "pygments_lexer": "ipython3",
   "version": "3.11.11"
  }
 },
 "nbformat": 4,
 "nbformat_minor": 5
}
