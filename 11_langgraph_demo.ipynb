{
 "cells": [
  {
   "cell_type": "markdown",
   "id": "78934f51",
   "metadata": {},
   "source": [
    "## LangGraph\n",
    "\n",
    "* Used to create Agents & Multi-Agents.\n",
    "\n",
    "For more in detail: https://langchain-ai.github.io/langgraph/tutorials/introduction/"
   ]
  },
  {
   "cell_type": "code",
   "execution_count": 4,
   "id": "57b35980",
   "metadata": {},
   "outputs": [],
   "source": [
    "import os\n",
    "from dotenv import find_dotenv, load_dotenv\n",
    "_ = load_dotenv(find_dotenv())\n",
    "openai_api_key = os.environ[\"OPENAI_API_KEY\"]"
   ]
  },
  {
   "cell_type": "code",
   "execution_count": 5,
   "id": "6da44b49",
   "metadata": {},
   "outputs": [],
   "source": [
    "from langchain_openai import ChatOpenAI\n",
    "\n",
    "llm = ChatOpenAI(model=\"gpt-3.5-turbo-0125\")"
   ]
  },
  {
   "cell_type": "code",
   "execution_count": 6,
   "id": "035f43f3",
   "metadata": {},
   "outputs": [
    {
     "data": {
      "text/plain": [
       "[{'url': 'https://www.nbcsports.com/soccer/news/euro-2024-player-power-rankings-who-are-the-top-20-stars',\n",
       "  'content': 'EURO 2024 player Power Rankings\\n20. Giorgi Mamardashvili (Georgia)\\n19. Khvicha Kvaratskhelia (Georgia)\\n18. Hakan Calhanoglu (Turkey)\\n17. Lamine Yamal (Spain)\\n16. N’Golo Kante (France)\\n15. Jude Bellingham (England)\\n14. Alvaro Morata (Spain)\\n13. Kai Havertz (Germany)\\n12. Toni Kroos (Germany)\\n11. Ilkay Gundogan (Germany)\\n10. Cody Gakpo (Netherlands)\\n9. Kevin de Bruyne (Belgium)\\n8. William Saliba (France)\\n7. Bruno Fernandes (Portugal)\\n6. Kylian Mbappe (France)\\n5. Marcel Sabitzer (Austria) [...] With Kylian Mbappe, Harry Kane and Kevin de Bruyne aiming to lead their teams to glory, plus ageing superstars like Toni Kroos and Cristiano Ronaldo still going strong and young stars Jude Bellingham, Florian Wirtz and Lamine Yamal set to take over, you can look all over the place for star performances this summer.\\nPlus, every tournament there are always stars who emerge to make a name for themselves and players from Georgia and Austria are standing tall. [...] 4. Gianluigi Donnarumma (Italy)\\n3. Jamal Musiala (Germany)\\n2. Florian Wirtz (Germany)\\n1. Fabian Ruiz (Spain)\\nOn the bubble: Antonio Rudiger, Rodri, Joshua Kimmich, Dani Carvajal, Nico Williams, Pepe, Christian Eriksen, Dani Olmo, Bernardo Silva, Marc Cucurella, Pedri, Nuno Mendes, Nicolo Barella, Declan Rice, Razvan Marin, Christoph Baumgartner, Arda Guler, Granit Xhaka, Pierre-Emile Hojbjerg, Alessandro Bastoni, Niclas Fullkrug, Maximillian Mittelstadt'},\n",
       " {'url': 'https://sports.yahoo.com/best-players-euro-2024-matchday-020000159.html',\n",
       "  'content': 'The best players at Euro 2024: Matchday 1 - ranked · 1. Jamal Musiala (Germany) · 2. Lamine Yamal (Spain) · 3. Jude Bellingham (England) · 4. Federico Chiesa (Italy).'},\n",
       " {'url': 'https://ftw.usatoday.com/story/sports/soccer/2024/06/13/euro-2024-best-player-rankings-kylian-mbappe-phil-foden-toni-kroos/79799502007/',\n",
       "  'content': 'Ranking the 11 best players at UEFA Euro 2024, including Kylian Mbappe and Jude Bellingham · 11. Kai Havertz, Striker, Germany (+2500) · 10.'}]"
      ]
     },
     "execution_count": 6,
     "metadata": {},
     "output_type": "execute_result"
    }
   ],
   "source": [
    "from langchain_community.tools.tavily_search import TavilySearchResults\n",
    "\n",
    "search = TavilySearchResults(max_results=3)\n",
    "search.invoke(\"Who are the top players of the 2024 Euro Cup?\")"
   ]
  },
  {
   "cell_type": "code",
   "execution_count": 7,
   "id": "69e87c0b",
   "metadata": {},
   "outputs": [
    {
     "data": {
      "text/plain": [
       "[TavilySearchResults(max_results=3)]"
      ]
     },
     "execution_count": 7,
     "metadata": {},
     "output_type": "execute_result"
    }
   ],
   "source": [
    "tools = [search]\n",
    "tools"
   ]
  },
  {
   "cell_type": "code",
   "execution_count": 8,
   "id": "8d20e3d6",
   "metadata": {},
   "outputs": [],
   "source": [
    "# create the agent\n",
    "from langgraph.prebuilt import create_react_agent\n",
    "\n",
    "agent_executor = create_react_agent(llm, tools)"
   ]
  },
  {
   "cell_type": "code",
   "execution_count": null,
   "id": "b87c73ae",
   "metadata": {},
   "outputs": [
    {
     "data": {
      "text/plain": [
       "[HumanMessage(content=\"Tell me about today's top news in Germany?\", id='ddcccfbe-8b17-4d83-a779-417380d5a26f'),\n",
       " AIMessage(content='', additional_kwargs={'tool_calls': [{'id': 'call_fvIZLif7Z70YoMKZTRel0rGq', 'function': {'arguments': '{\"query\":\"top news in Germany today\"}', 'name': 'tavily_search_results_json'}, 'type': 'function'}]}, response_metadata={'token_usage': {'completion_tokens': 23, 'prompt_tokens': 91, 'total_tokens': 114, 'completion_tokens_details': {'accepted_prediction_tokens': 0, 'audio_tokens': 0, 'reasoning_tokens': 0, 'rejected_prediction_tokens': 0}, 'prompt_tokens_details': {'audio_tokens': 0, 'cached_tokens': 0}}, 'model_name': 'gpt-3.5-turbo-0125', 'system_fingerprint': None, 'finish_reason': 'tool_calls', 'logprobs': None}, id='run-719eea2d-c2a0-4ae7-899f-ea9dc55b3c41-0', tool_calls=[{'name': 'tavily_search_results_json', 'args': {'query': 'top news in Germany today'}, 'id': 'call_fvIZLif7Z70YoMKZTRel0rGq', 'type': 'tool_call'}], usage_metadata={'input_tokens': 91, 'output_tokens': 23, 'total_tokens': 114}),\n",
       " ToolMessage(content='[{\"url\": \"https://www.theguardian.com/world/germany\", \"content\": \"April 2025 · Berlin reports rise in attacks on refugees amid surge in far-right crime · German police crack down on illegal street car tuning as season begins · I\"}, {\"url\": \"https://www.bbc.com/news/topics/c77jz3md4rdt\", \"content\": \"German media report village of Weitefeld, Westerwald, was cordoned off and all vehicles are being checked after discovery in house.\\\\n\\\\nGerman defender Hummels to retire at end of season\\\\n\\\\nWorld Cup-winning German defender Mats Hummels will retire from professional football at the end of the season.\\\\n\\\\nOxford college to honour WW1 German soldiers\\\\n\\\\nThe move by The Queen\\'s College is expected to be confirmed by Oxford City Council in coming weeks. [...] The chancellor-in-waiting\\'s conservatives have reached a coalition agreement with Germany\\'s Social Democrats, five months after the last government collapsed.\\\\n\\\\nGermany wary of claims Russian influence behind attacks\\\\n\\\\nGerman security officials say they are examining possible indications of foreign  influence in a series of attacks.\\\\n\\\\nManhunt in Germany after three bodies found [...] Germany\\\\n\\\\nThe record-breaking tunnel being built from Denmark to Germany\\\\n\\\\nThe rail and road link will slash journey times between much of Scandinavia and continental Europe.\\\\n\\\\nGerman doctor charged with murder of 15 patients\\\\n\\\\nThe suspect, 40, is accused of setting fire to the homes of some of his alleged victims to cover his tracks.\\\\n\\\\nGermany is back, says Merz, after sealing government deal\"}, {\"url\": \"https://www.aljazeera.com/where/germany/\", \"content\": \"All our updates, including post-match reaction and interviews, as Robert Lewandowski’s double leads Barca’s rout.\\\\n\\\\nGermany halts UN refugee resettlement programme\\\\n\\\\nThe next German government, likely to be led by the centre-right CDU, is expected to be tougher on migration.\\\\n\\\\nVideo: Protests in Germany against deportation of pro-Palestinian activists\\\\n\\\\nProtesters in Berlin opposed deportation of a group of foreign nationals who campaigned against the genocide in Gaza. [...] Barcelona hit Dortmund for four in Champions League quarterfinal\\\\n\\\\nBarcelona set sights on Champions League progress with 4-0 home win in quarterfinal first leg against Borussia Dortmund.\\\\n\\\\nGermany’s Merz unveils coalition deal with SPD after weeks of drift\\\\n\\\\nGerman election winner seals deal to form new government aiming to spur economic growth and ramp up defence spending.\\\\n\\\\nLewandowski double hands Barca advantage over Dortmund – as it happened [...] EU leaders and the UK condemned the Palm Sunday attack on Sumy, while US President Trump called it a ‘mistake’.\\\\n\\\\nGermany wants to expel four pro-Palestine activists: What you should know\\\\n\\\\nThe US citizen and three European nationals who face expulsion have not been convicted of any crime.\\\\n\\\\nUCL: All to know before the Dortmund-Barcelona second leg quarterfinal\\\\n\\\\nDortmund want to erase their 4-0 quarterfinal setback to Barcelona in the Champions League second leg in Germany.\"}]', name='tavily_search_results_json', id='77194901-c27c-48bd-9340-e75d07237227', tool_call_id='call_fvIZLif7Z70YoMKZTRel0rGq'),\n",
       " AIMessage(content='Today\\'s top news in Germany includes the following updates:\\n\\n1. Berlin reports a rise in attacks on refugees amid a surge in far-right crime.\\n2. German police crack down on illegal street car tuning as the season begins.\\n3. German defender Mats Hummels announces retirement from professional football at the end of the season.\\n4. Oxford college to honor WW1 German soldiers.\\n5. German security officials are investigating possible foreign influence in a series of attacks.\\n6. A manhunt is underway in Germany after three bodies were found.\\n7. A German doctor has been charged with the murder of 15 patients.\\n8. Germany\\'s new government deal has been sealed, with Friedrich Merz stating \"Germany is back.\"\\n\\nFor more detailed information, you can visit the following sources:\\n- [The Guardian](https://www.theguardian.com/world/germany)\\n- [BBC News](https://www.bbc.com/news/topics/c77jz3md4rdt)\\n- [Al Jazeera](https://www.aljazeera.com/where/germany/)', response_metadata={'token_usage': {'completion_tokens': 216, 'prompt_tokens': 783, 'total_tokens': 999, 'completion_tokens_details': {'accepted_prediction_tokens': 0, 'audio_tokens': 0, 'reasoning_tokens': 0, 'rejected_prediction_tokens': 0}, 'prompt_tokens_details': {'audio_tokens': 0, 'cached_tokens': 0}}, 'model_name': 'gpt-3.5-turbo-0125', 'system_fingerprint': None, 'finish_reason': 'stop', 'logprobs': None}, id='run-0c5195fe-5c7b-4416-badd-50fd848f3892-0', usage_metadata={'input_tokens': 783, 'output_tokens': 216, 'total_tokens': 999})]"
      ]
     },
     "execution_count": 11,
     "metadata": {},
     "output_type": "execute_result"
    }
   ],
   "source": [
    "# one-shot output\n",
    "from langchain_core.messages import HumanMessage\n",
    "\n",
    "response = agent_executor.invoke({\"messages\": [HumanMessage(content=\"Tell me about today's top news in Germany?\")]})\n",
    "\n",
    "response[\"messages\"]"
   ]
  },
  {
   "cell_type": "code",
   "execution_count": 12,
   "id": "10d45433",
   "metadata": {},
   "outputs": [
    {
     "data": {
      "text/plain": [
       "[HumanMessage(content='What is Python?', id='191d0040-f448-4692-a44c-61f60177b292'),\n",
       " AIMessage(content='', additional_kwargs={'tool_calls': [{'id': 'call_gPTDwcpVbAhUTgNWr2sF7MYM', 'function': {'arguments': '{\"query\":\"Python\"}', 'name': 'tavily_search_results_json'}, 'type': 'function'}]}, response_metadata={'token_usage': {'completion_tokens': 19, 'prompt_tokens': 85, 'total_tokens': 104, 'completion_tokens_details': {'accepted_prediction_tokens': 0, 'audio_tokens': 0, 'reasoning_tokens': 0, 'rejected_prediction_tokens': 0}, 'prompt_tokens_details': {'audio_tokens': 0, 'cached_tokens': 0}}, 'model_name': 'gpt-3.5-turbo-0125', 'system_fingerprint': None, 'finish_reason': 'tool_calls', 'logprobs': None}, id='run-3a7f38aa-6188-45d9-84c5-1ad7c002f136-0', tool_calls=[{'name': 'tavily_search_results_json', 'args': {'query': 'Python'}, 'id': 'call_gPTDwcpVbAhUTgNWr2sF7MYM', 'type': 'tool_call'}], usage_metadata={'input_tokens': 85, 'output_tokens': 19, 'total_tokens': 104}),\n",
       " ToolMessage(content='[{\"url\": \"https://www.online-python.com/\", \"content\": \"Python, which was initially developed by Guido van Rossum and made available to the public in 1991, is currently one of the most widely used general-purpose programming languages. Python\\'s source code is freely available to the public, and its usage and distribution are unrestricted, including for commercial purposes. It is widely used for web development, and using it, practically anything can be created, including mobile apps, online apps, tools, data analytics, machine learning, and so on. [...] Python is a simple language to pick up. It has a simple syntax, and the code is quite easy to read.\\\\nPython is useful in a wide variety of contexts. It is put to use in the creation of quick application development, data science, Internet of Things, and web applications, among other things.\\\\nWhen compared to most other programming languages, it enables you to develop applications using a smaller number of lines of code. [...] About Python\"}, {\"url\": \"https://www.python.org/\", \"content\": \"Python is a programming language that lets you work more quickly and integrate your systems more effectively.\\\\nYou can learn to use Python and see almost immediate gains in productivity and lower maintenance costs. Learn more about Python.\\\\n\\\\n\\\\n\\\\n\\\\nDownloads\\\\n\\\\nAll releases\\\\nSource code\\\\nWindows\\\\nmacOS\\\\nOther Platforms\\\\nLicense\\\\nAlternative Implementations [...] Python is a programming language that lets you work quickly and integrate systems more effectively. Learn More\\\\nJoin us in Pittsburgh, PA starting May 14, 2025. Grab your ticket today before we sell out! \\xa0\\xa0REGISTER FOR PYCON US!\\\\nGet Started\\\\nWhether you\\'re new to programming or an experienced developer, it\\'s easy to learn and use Python.\\\\nStart with our Beginner’s Guide\\\\nDownload\\\\nPython source code and installers are available for download for all versions!\\\\nLatest: Python 3.13.3\\\\nDocs\"}, {\"url\": \"https://en.wikipedia.org/wiki/Python_(programming_language)\", \"content\": \"Python allows programmers to define their own types using classes, most often used for object-oriented programming. New instances of classes are constructed by calling the class (for example, SpamClass() or EggsClass()), and the classes are instances of the metaclass type (itself an instance of itself), allowing metaprogramming and reflection. [...] Jump to content\\\\nMain menu\\\\nSearch\\\\nDonate\\\\nCreate account\\\\nLog in\\\\nPersonal tools\\\\nToggle the table of contents\\\\nPython (programming language)\\\\n112 languages\\\\nArticle\\\\nTalk\\\\nRead\\\\nEdit\\\\nView history\\\\nTools\\\\nFrom Wikipedia, the free encyclopedia\\\\nThis article is about the Python programming language. For the animal, see Python (genus).\\\\nPython\\\\nParadigm    Multi-paradigm: object-oriented,[1] procedural (imperative), functional, structured, reflective\\\\nDesigned\\xa0by Guido van Rossum [...] Python is a multi-paradigm programming language. Object-oriented programming and structured programming are fully supported, and many of their features support functional programming and aspect-oriented programming (including metaprogramming[71] and metaobjects).[72] Many other paradigms are supported via extensions, including design by contract[73][74] and logic programming.[75] Python is often referred to as a \\'glue language\\'[76] because it can seamlessly integrate components written in other\"}]', name='tavily_search_results_json', id='18ecbd18-374c-4f87-8a64-4779ef70e363', tool_call_id='call_gPTDwcpVbAhUTgNWr2sF7MYM'),\n",
       " AIMessage(content='Python is a widely used general-purpose programming language that was initially developed by Guido van Rossum and made available to the public in 1991. It is known for its simplicity, with a straightforward syntax and easy-to-read code. Python is versatile and can be used for various applications such as web development, mobile apps, online apps, tools, data analytics, and machine learning.\\n\\nPython is favored for its quick application development, data science capabilities, Internet of Things applications, and web development. Compared to many other programming languages, Python allows developers to create applications using fewer lines of code. It supports multiple programming paradigms, including object-oriented, procedural, functional, structured, reflective, and metaprogramming.\\n\\nIf you want to learn more about Python, you can visit [this link](https://www.online-python.com/).', response_metadata={'token_usage': {'completion_tokens': 170, 'prompt_tokens': 812, 'total_tokens': 982, 'completion_tokens_details': {'accepted_prediction_tokens': 0, 'audio_tokens': 0, 'reasoning_tokens': 0, 'rejected_prediction_tokens': 0}, 'prompt_tokens_details': {'audio_tokens': 0, 'cached_tokens': 0}}, 'model_name': 'gpt-3.5-turbo-0125', 'system_fingerprint': None, 'finish_reason': 'stop', 'logprobs': None}, id='run-c9184207-7744-4d24-935f-15ddca2a8ce7-0', usage_metadata={'input_tokens': 812, 'output_tokens': 170, 'total_tokens': 982})]"
      ]
     },
     "execution_count": 12,
     "metadata": {},
     "output_type": "execute_result"
    }
   ],
   "source": [
    "response = agent_executor.invoke({\"messages\": [HumanMessage(content=\"What is Python?\")]})\n",
    "\n",
    "response[\"messages\"]"
   ]
  },
  {
   "cell_type": "code",
   "execution_count": 13,
   "id": "6fc8ce3b",
   "metadata": {},
   "outputs": [
    {
     "name": "stdout",
     "output_type": "stream",
     "text": [
      "{'agent': {'messages': [AIMessage(content='', additional_kwargs={'tool_calls': [{'id': 'call_91JZX6vavFoIi5elQxCXTCSH', 'function': {'arguments': '{\"query\":\"2027 Cricket World Cup location and dates\"}', 'name': 'tavily_search_results_json'}, 'type': 'function'}]}, response_metadata={'token_usage': {'completion_tokens': 26, 'prompt_tokens': 95, 'total_tokens': 121, 'completion_tokens_details': {'accepted_prediction_tokens': 0, 'audio_tokens': 0, 'reasoning_tokens': 0, 'rejected_prediction_tokens': 0}, 'prompt_tokens_details': {'audio_tokens': 0, 'cached_tokens': 0}}, 'model_name': 'gpt-3.5-turbo-0125', 'system_fingerprint': None, 'finish_reason': 'tool_calls', 'logprobs': None}, id='run-fb7d03f6-2af2-4ff3-8c74-a0b3a07f54d2-0', tool_calls=[{'name': 'tavily_search_results_json', 'args': {'query': '2027 Cricket World Cup location and dates'}, 'id': 'call_91JZX6vavFoIi5elQxCXTCSH', 'type': 'tool_call'}], usage_metadata={'input_tokens': 95, 'output_tokens': 26, 'total_tokens': 121})]}}\n",
      "----\n",
      "{'tools': {'messages': [ToolMessage(content='[{\"url\": \"https://en.wikipedia.org/wiki/2027_Cricket_World_Cup\", \"content\": \"The 2027 ICC Cricket World Cup will be the 14th edition of the Cricket World Cup. It is scheduled to be played in South Africa, Zimbabwe, and Namibia in October and November 2027. This will be the second time that South Africa and Zimbabwe will have co-hosted the tournament, after the 2003 edition, while Namibia will host it for the first time. [...] In November 2021, the ICC announced that the 2027 Cricket World Cup will be played in South Africa, Zimbabwe and Namibia.[1] [...] Hosts South Africa and Zimbabwe will qualify automatically for the tournament, along with the top eight teams in the ICC ODI rankings as of 31 March 2027.[6] The remaining four places will be decided through qualifying tournaments.[6] Although Namibia will co-host the competition for the first time, they will not be guaranteed a spot because they are not a full ICC member and, as a result, will have to go through the standard qualification pathway.[7]\\\\n\\\\nVenues\"}, {\"url\": \"https://simple.wikipedia.org/wiki/2027_Cricket_World_Cup\", \"content\": \"The 2027 ICC Cricket World Cup will mark the 14th edition of this quadrennial(happens every 4 year) One Day International (ODI) cricket world cup. It is predicted that India Will Win It\\'s 3rd World Cup.This event features men\\'s national teams and is organized by the International Cricket Council (ICC). It\\'s set to take place in South Africa, Zimbabwe, and Namibia during October and November 2027. This tournament will be co-hosted by South Africa and Zimbabwe for the second time, following the [...] 2027 ICC Cricket World Cup\\\\nDates | October 2027 – November 2027\\\\nAdministrator(s) | International Cricket Council\\\\nCricket format | One Day International\\\\nTournament format(s) | Round RobinandKnockout\\\\nHost(s) | South AfricaZimbabweNamibia\\\\nDefending Champions | Australia\\\\nParticipants | 14\\\\nMatches played | 54\\\\n←20232031→\\\\nQualification [...] Team | Method ofqualification | Date ofqualification | Venues | Totaltimesqualified | Lasttimequalified | Previous bestperformance | Number ofteams\\\\nSouth Africa | Hosts | 16 November 2021 | – | 10 | 2023 | Semi-Finals (1992,1999,2007,2015,2023) | 2\\\\nZimbabwe | 10 | 2015 | Super 6s (1999,2003)\\\\nTBD | ICC Men\\'s ODI Team Rankings(Top 8 teams, excluding the hosts) | 31 March 2027 | Various |  |  |  | 8\\\\nTBD |  |  | \\\\nTBD |  |  | \\\\nTBD |  |  | \\\\nTBD |  |  | \\\\nTBD |  |  | \\\\nTBD |  |  | \\\\nTBD |  |  |\"}, {\"url\": \"https://gulliverstravel.co.uk/event/icc-mens-cricket-world-cup-south-africa-zimbabwe-namibia\", \"content\": \"The 2027 ICC Cricket World Cup will be the 14th edition of the Cricket World Cup and is scheduled to be played in South Africa, Zimbabwe and Namibia in October\"}]', name='tavily_search_results_json', tool_call_id='call_91JZX6vavFoIi5elQxCXTCSH')]}}\n",
      "----\n",
      "{'agent': {'messages': [AIMessage(content='The 2027 Cricket World Cup will be played in South Africa, Zimbabwe, and Namibia in October and November 2027. This will be the 14th edition of the Cricket World Cup, and it will be co-hosted by South Africa and Zimbabwe for the second time, with Namibia hosting it for the first time.', response_metadata={'token_usage': {'completion_tokens': 70, 'prompt_tokens': 871, 'total_tokens': 941, 'completion_tokens_details': {'accepted_prediction_tokens': 0, 'audio_tokens': 0, 'reasoning_tokens': 0, 'rejected_prediction_tokens': 0}, 'prompt_tokens_details': {'audio_tokens': 0, 'cached_tokens': 0}}, 'model_name': 'gpt-3.5-turbo-0125', 'system_fingerprint': None, 'finish_reason': 'stop', 'logprobs': None}, id='run-d19fc7ff-e2c0-4ce4-935c-7fe0214c9244-0', usage_metadata={'input_tokens': 871, 'output_tokens': 70, 'total_tokens': 941})]}}\n",
      "----\n"
     ]
    }
   ],
   "source": [
    "# stream output\n",
    "for chunk in agent_executor.stream(\n",
    "    {\"messages\": [HumanMessage(content=\"When and where will the 2027 Cricket World Cup be played?\")]}\n",
    "):\n",
    "    print(chunk)\n",
    "    print(\"----\")"
   ]
  },
  {
   "cell_type": "markdown",
   "id": "0ac574b8",
   "metadata": {},
   "source": [
    "## Adding Memory\n",
    "\n",
    "Adding memory in LangGraph is very similar to what we did with LangChain."
   ]
  },
  {
   "cell_type": "code",
   "execution_count": 14,
   "id": "e3cbfb99",
   "metadata": {},
   "outputs": [],
   "source": [
    "from langgraph.checkpoint.memory import MemorySaver\n",
    "\n",
    "memory = MemorySaver()"
   ]
  },
  {
   "cell_type": "code",
   "execution_count": 15,
   "id": "5b75b0e4",
   "metadata": {},
   "outputs": [],
   "source": [
    "agent_executor = create_react_agent(llm, tools, checkpointer=memory)\n",
    "\n",
    "config = {\"configurable\": {\"thread_id\": \"001\"}}"
   ]
  },
  {
   "cell_type": "code",
   "execution_count": 16,
   "id": "81c87fff",
   "metadata": {},
   "outputs": [
    {
     "name": "stdout",
     "output_type": "stream",
     "text": [
      "{'agent': {'messages': [AIMessage(content='', additional_kwargs={'tool_calls': [{'id': 'call_weL0GAPHbttw2xT2LX7NMOy3', 'function': {'arguments': '{\"query\":\"2027 Cricket World Cup location and dates\"}', 'name': 'tavily_search_results_json'}, 'type': 'function'}]}, response_metadata={'token_usage': {'completion_tokens': 26, 'prompt_tokens': 95, 'total_tokens': 121, 'completion_tokens_details': {'accepted_prediction_tokens': 0, 'audio_tokens': 0, 'reasoning_tokens': 0, 'rejected_prediction_tokens': 0}, 'prompt_tokens_details': {'audio_tokens': 0, 'cached_tokens': 0}}, 'model_name': 'gpt-3.5-turbo-0125', 'system_fingerprint': None, 'finish_reason': 'tool_calls', 'logprobs': None}, id='run-b58c4a05-13f3-4d58-895d-86613a8bd3d5-0', tool_calls=[{'name': 'tavily_search_results_json', 'args': {'query': '2027 Cricket World Cup location and dates'}, 'id': 'call_weL0GAPHbttw2xT2LX7NMOy3', 'type': 'tool_call'}], usage_metadata={'input_tokens': 95, 'output_tokens': 26, 'total_tokens': 121})]}}\n",
      "----\n",
      "{'tools': {'messages': [ToolMessage(content='[{\"url\": \"https://en.wikipedia.org/wiki/2027_Cricket_World_Cup\", \"content\": \"The 2027 ICC Cricket World Cup will be the 14th edition of the Cricket World Cup. It is scheduled to be played in South Africa, Zimbabwe, and Namibia in October and November 2027. This will be the second time that South Africa and Zimbabwe will have co-hosted the tournament, after the 2003 edition, while Namibia will host it for the first time. [...] In November 2021, the ICC announced that the 2027 Cricket World Cup will be played in South Africa, Zimbabwe and Namibia.[1] [...] Hosts South Africa and Zimbabwe will qualify automatically for the tournament, along with the top eight teams in the ICC ODI rankings as of 31 March 2027.[6] The remaining four places will be decided through qualifying tournaments.[6] Although Namibia will co-host the competition for the first time, they will not be guaranteed a spot because they are not a full ICC member and, as a result, will have to go through the standard qualification pathway.[7]\\\\n\\\\nVenues\"}, {\"url\": \"https://simple.wikipedia.org/wiki/2027_Cricket_World_Cup\", \"content\": \"The 2027 ICC Cricket World Cup will mark the 14th edition of this quadrennial(happens every 4 year) One Day International (ODI) cricket world cup. It is predicted that India Will Win It\\'s 3rd World Cup.This event features men\\'s national teams and is organized by the International Cricket Council (ICC). It\\'s set to take place in South Africa, Zimbabwe, and Namibia during October and November 2027. This tournament will be co-hosted by South Africa and Zimbabwe for the second time, following the [...] 2027 ICC Cricket World Cup\\\\nDates | October 2027 – November 2027\\\\nAdministrator(s) | International Cricket Council\\\\nCricket format | One Day International\\\\nTournament format(s) | Round RobinandKnockout\\\\nHost(s) | South AfricaZimbabweNamibia\\\\nDefending Champions | Australia\\\\nParticipants | 14\\\\nMatches played | 54\\\\n←20232031→\\\\nQualification [...] Team | Method ofqualification | Date ofqualification | Venues | Totaltimesqualified | Lasttimequalified | Previous bestperformance | Number ofteams\\\\nSouth Africa | Hosts | 16 November 2021 | – | 10 | 2023 | Semi-Finals (1992,1999,2007,2015,2023) | 2\\\\nZimbabwe | 10 | 2015 | Super 6s (1999,2003)\\\\nTBD | ICC Men\\'s ODI Team Rankings(Top 8 teams, excluding the hosts) | 31 March 2027 | Various |  |  |  | 8\\\\nTBD |  |  | \\\\nTBD |  |  | \\\\nTBD |  |  | \\\\nTBD |  |  | \\\\nTBD |  |  | \\\\nTBD |  |  | \\\\nTBD |  |  |\"}, {\"url\": \"https://gulliverstravel.co.uk/event/icc-mens-cricket-world-cup-south-africa-zimbabwe-namibia\", \"content\": \"The 2027 ICC Cricket World Cup will be the 14th edition of the Cricket World Cup and is scheduled to be played in South Africa, Zimbabwe and Namibia in October\"}]', name='tavily_search_results_json', tool_call_id='call_weL0GAPHbttw2xT2LX7NMOy3')]}}\n",
      "----\n",
      "{'agent': {'messages': [AIMessage(content='The 2027 Cricket World Cup will be played in South Africa, Zimbabwe, and Namibia in October and November 2027. This will be the 14th edition of the Cricket World Cup, with South Africa and Zimbabwe hosting the tournament for the second time, and Namibia hosting it for the first time.', response_metadata={'token_usage': {'completion_tokens': 66, 'prompt_tokens': 871, 'total_tokens': 937, 'completion_tokens_details': {'accepted_prediction_tokens': 0, 'audio_tokens': 0, 'reasoning_tokens': 0, 'rejected_prediction_tokens': 0}, 'prompt_tokens_details': {'audio_tokens': 0, 'cached_tokens': 0}}, 'model_name': 'gpt-3.5-turbo-0125', 'system_fingerprint': None, 'finish_reason': 'stop', 'logprobs': None}, id='run-e977e745-3c79-4320-8e80-4a527b9b2c56-0', usage_metadata={'input_tokens': 871, 'output_tokens': 66, 'total_tokens': 937})]}}\n",
      "----\n"
     ]
    }
   ],
   "source": [
    "for chunk in agent_executor.stream(\n",
    "    {\"messages\": [HumanMessage(content=\"When and where will the 2027 Cricket World Cup be played?\")]}, config=config\n",
    "):\n",
    "    print(chunk)\n",
    "    print(\"----\")"
   ]
  },
  {
   "cell_type": "code",
   "execution_count": 17,
   "id": "a04b526b",
   "metadata": {},
   "outputs": [
    {
     "name": "stdout",
     "output_type": "stream",
     "text": [
      "{'agent': {'messages': [AIMessage(content='', additional_kwargs={'tool_calls': [{'id': 'call_yBTv6uN6crggULtoGflQYWsX', 'function': {'arguments': '{\"query\":\"top players of 2025 Cricket T20 World Cup\"}', 'name': 'tavily_search_results_json'}, 'type': 'function'}]}, response_metadata={'token_usage': {'completion_tokens': 29, 'prompt_tokens': 958, 'total_tokens': 987, 'completion_tokens_details': {'accepted_prediction_tokens': 0, 'audio_tokens': 0, 'reasoning_tokens': 0, 'rejected_prediction_tokens': 0}, 'prompt_tokens_details': {'audio_tokens': 0, 'cached_tokens': 0}}, 'model_name': 'gpt-3.5-turbo-0125', 'system_fingerprint': None, 'finish_reason': 'tool_calls', 'logprobs': None}, id='run-f6d32858-daee-4f7c-9d77-1ca1c392752a-0', tool_calls=[{'name': 'tavily_search_results_json', 'args': {'query': 'top players of 2025 Cricket T20 World Cup'}, 'id': 'call_yBTv6uN6crggULtoGflQYWsX', 'type': 'tool_call'}], usage_metadata={'input_tokens': 958, 'output_tokens': 29, 'total_tokens': 987})]}}\n",
      "----\n",
      "{'tools': {'messages': [ToolMessage(content='[{\"url\": \"https://sports.ndtv.com/cricket/icc-rankings/t20-batting\", \"content\": \"Team | M | W | L | T | NR | PTS | NRR\\\\nIND | 9 | 9 | 0 | 0 | 0 | 18 | +2.570\\\\nSA | 9 | 7 | 2 | 0 | 0 | 14 | +1.261\\\\nAUS | 9 | 7 | 2 | 0 | 0 | 14 | +0.841\\\\nNZ | 9 | 5 | 4 | 0 | 0 | 10 | +0.743\\\\nPAK | 9 | 4 | 5 | 0 | 0 | 8 | -0.199\\\\nPlayer | Runs | AVG\\\\nVirat KohliVirat Kohli | 765 | 95.62\\\\nRohit SharmaRohit Sharma | 597 | 54.27\\\\nQuinton de KockQuinton de Kock | 594 | 59.40\\\\nRachin RavindraRachin Ravindra | 578 | 64.22\\\\nDaryl MitchellDaryl Mitchell | 552 | 69.00\\\\nPlayer | Wickets | Eco [...] Mohammed ShamiMohammed Shami | 24 | 5.26\\\\nAdam ZampaAdam Zampa | 23 | 5.36\\\\nDilshan MadushankaDilshan Madushanka | 21 | 6.70\\\\nJasprit BumrahJasprit Bumrah | 20 | 4.06\\\\nGerald CoetzeeGerald Coetzee | 20 | 6.23\\\\nNow Trending [...] Rank | Player | Rating | Career Best Rating\\\\n1 | Travis HeadAustralia | 855 | 884 v Scotland at Edinburgh 2024\\\\n2 | Phil SaltEngland | 828 | 860 v West Indies at Barbados 2024\\\\n3 | Tilak VarmaIndia | 806 | 806 v South Africa at Johannesburg 2024\\\\n4 | Suryakumar YadavIndia | 788 | 910 v New Zealand at Ranchi 2023\\\\n5 | Babar AzamPakistan | 742 | 896 v England at Cardiff 2019\\\\n6 | Mohammad RizwanPakistan | 719 | 875 v England at Lahore 2022\"}, {\"url\": \"https://timesofindia.indiatimes.com/sports/cricket/icc-t20-batting-rankings\", \"content\": \"ICC Rankings · #Player NameCountryRating · 1Travis Head 856 · 2Abhishek Sharma 829 · 3Phil Salt 815 · 4Tilak Varma 804 · 5Suryakumar Yadav 739 · 6Jos Buttler 735 · 7\"}]', name='tavily_search_results_json', tool_call_id='call_yBTv6uN6crggULtoGflQYWsX')]}}\n",
      "----\n",
      "{'agent': {'messages': [AIMessage(content='Some of the top players of the 2025 Cricket T20 World Cup were:\\n\\nBatting:\\n1. Virat Kohli - 765 runs with an average of 95.62\\n2. Rohit Sharma - 597 runs with an average of 54.27\\n3. Quinton de Kock - 594 runs with an average of 59.40\\n4. Rachin Ravindra - 578 runs with an average of 64.22\\n5. Daryl Mitchell - 552 runs with an average of 69.00\\n\\nBowling:\\n1. Mohammed Shami - 24 wickets with an economy of 5.26\\n2. Adam Zampa - 23 wickets with an economy of 5.36\\n3. Dilshan Madushanka - 21 wickets with an economy of 6.70\\n4. Jasprit Bumrah - 20 wickets with an economy of 4.06\\n5. Gerald Coetzee - 20 wickets with an economy of 6.23\\n\\nThese players showcased remarkable performances during the tournament.', response_metadata={'token_usage': {'completion_tokens': 229, 'prompt_tokens': 1608, 'total_tokens': 1837, 'completion_tokens_details': {'accepted_prediction_tokens': 0, 'audio_tokens': 0, 'reasoning_tokens': 0, 'rejected_prediction_tokens': 0}, 'prompt_tokens_details': {'audio_tokens': 0, 'cached_tokens': 0}}, 'model_name': 'gpt-3.5-turbo-0125', 'system_fingerprint': None, 'finish_reason': 'stop', 'logprobs': None}, id='run-1fc76836-a776-4caa-912d-715977ac25b5-0', usage_metadata={'input_tokens': 1608, 'output_tokens': 229, 'total_tokens': 1837})]}}\n",
      "----\n"
     ]
    }
   ],
   "source": [
    "for chunk in agent_executor.stream(\n",
    "    {\"messages\": [HumanMessage(content=\"Who were the top players of 2025 Cricket T20 World Cup?\")]}, config=config\n",
    "):\n",
    "    print(chunk)\n",
    "    print(\"----\")"
   ]
  },
  {
   "cell_type": "markdown",
   "id": "7c3f32d3",
   "metadata": {},
   "source": [
    "As you can see, in this response we got a live url. This means the response was given by searching in the web & this information was not available in the model's knowledge base. But in previous responses, the urls were not live. So, the response was given by using the model's knowledge base."
   ]
  },
  {
   "cell_type": "code",
   "execution_count": 18,
   "id": "ab568ee1",
   "metadata": {},
   "outputs": [
    {
     "name": "stdout",
     "output_type": "stream",
     "text": [
      "{'agent': {'messages': [AIMessage(content='We were discussing sports. Would you like to know more about a specific sport or have any questions related to sports?', response_metadata={'token_usage': {'completion_tokens': 25, 'prompt_tokens': 88, 'total_tokens': 113, 'completion_tokens_details': {'accepted_prediction_tokens': 0, 'audio_tokens': 0, 'reasoning_tokens': 0, 'rejected_prediction_tokens': 0}, 'prompt_tokens_details': {'audio_tokens': 0, 'cached_tokens': 0}}, 'model_name': 'gpt-3.5-turbo-0125', 'system_fingerprint': None, 'finish_reason': 'stop', 'logprobs': None}, id='run-1a5264c2-a49e-4dee-a180-61330cc8022f-0', usage_metadata={'input_tokens': 88, 'output_tokens': 25, 'total_tokens': 113})]}}\n",
      "----\n"
     ]
    }
   ],
   "source": [
    "config = {\"configurable\": {\"thread_id\": \"002\"}}\n",
    "\n",
    "for chunk in agent_executor.stream(\n",
    "    {\"messages\": [HumanMessage(content=\"About what sports we were talking?\")]}, config=config\n",
    "):\n",
    "    print(chunk)\n",
    "    print(\"----\")"
   ]
  },
  {
   "cell_type": "markdown",
   "id": "251e27fc",
   "metadata": {},
   "source": [
    "You can see that for a different thread_id=002 (user), we are unable to get the information about the chat done my thread_id=001. Now we can check if for thread_id=001, it remembers the response or not."
   ]
  },
  {
   "cell_type": "code",
   "execution_count": 19,
   "id": "32410a9d",
   "metadata": {},
   "outputs": [
    {
     "name": "stdout",
     "output_type": "stream",
     "text": [
      "{'agent': {'messages': [AIMessage(content='We were discussing cricket, specifically the 2025 Cricket T20 World Cup and the top players from that tournament.', response_metadata={'token_usage': {'completion_tokens': 25, 'prompt_tokens': 1850, 'total_tokens': 1875, 'completion_tokens_details': {'accepted_prediction_tokens': 0, 'audio_tokens': 0, 'reasoning_tokens': 0, 'rejected_prediction_tokens': 0}, 'prompt_tokens_details': {'audio_tokens': 0, 'cached_tokens': 0}}, 'model_name': 'gpt-3.5-turbo-0125', 'system_fingerprint': None, 'finish_reason': 'stop', 'logprobs': None}, id='run-009c695e-5699-4b6f-9c31-af1f4433add6-0', usage_metadata={'input_tokens': 1850, 'output_tokens': 25, 'total_tokens': 1875})]}}\n",
      "----\n"
     ]
    }
   ],
   "source": [
    "config = {\"configurable\": {\"thread_id\": \"001\"}}\n",
    "\n",
    "for chunk in agent_executor.stream(\n",
    "    {\"messages\": [HumanMessage(content=\"About what sports we were talking?\")]}, config=config\n",
    "):\n",
    "    print(chunk)\n",
    "    print(\"----\")"
   ]
  },
  {
   "cell_type": "markdown",
   "id": "8ba21460",
   "metadata": {},
   "source": [
    "Here we can see that, you got the correct answer \"cricket\"."
   ]
  },
  {
   "cell_type": "code",
   "execution_count": null,
   "id": "221981dd",
   "metadata": {},
   "outputs": [],
   "source": []
  }
 ],
 "metadata": {
  "kernelspec": {
   "display_name": "Python 3",
   "language": "python",
   "name": "python3"
  },
  "language_info": {
   "codemirror_mode": {
    "name": "ipython",
    "version": 3
   },
   "file_extension": ".py",
   "mimetype": "text/x-python",
   "name": "python",
   "nbconvert_exporter": "python",
   "pygments_lexer": "ipython3",
   "version": "3.11.11"
  }
 },
 "nbformat": 4,
 "nbformat_minor": 5
}
